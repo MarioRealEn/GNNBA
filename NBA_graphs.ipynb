{
 "cells": [
  {
   "cell_type": "code",
   "execution_count": 1,
   "id": "initial_id",
   "metadata": {
    "collapsed": true,
    "ExecuteTime": {
     "end_time": "2024-12-01T10:20:15.854999600Z",
     "start_time": "2024-12-01T10:20:08.866240600Z"
    }
   },
   "outputs": [],
   "source": [
    "import pandas as pd\n",
    "import numpy as np\n",
    "import nba_api.stats.endpoints as nba\n",
    "import nba_api.stats.static.players as players\n",
    "import nba_api.stats.static.teams as teams\n",
    "import networkx as nx"
   ]
  },
  {
   "cell_type": "code",
   "execution_count": 49,
   "outputs": [
    {
     "data": {
      "text/plain": "     index       id         Full_name Firstname   Surname  Active team_name  \\\n0        0  1630173  Precious Achiuwa  Precious   Achiuwa    True    Knicks   \n1        1   203500      Steven Adams    Steven     Adams    True   Rockets   \n2        2  1628389       Bam Adebayo       Bam   Adebayo    True      Heat   \n3        3  1630534      Ochai Agbaji     Ochai    Agbaji    True   Raptors   \n4        4  1631231      James Akinjo     James    Akinjo    True       NaN   \n..     ...      ...               ...       ...       ...     ...       ...   \n610    610   203469       Cody Zeller      Cody    Zeller    True     Hawks   \n611    611  1627826       Ivica Zubac     Ivica     Zubac    True  Clippers   \n612    612  1641783  Tristan da Silva   Tristan  da Silva    True     Magic   \n613    613  1628427     Vlatko Čančar    Vlatko    Čančar    True   Nuggets   \n614    614   203967       Dario Šarić     Dario     Šarić    True   Nuggets   \n\n        team_id  \n0    1610612752  \n1    1610612745  \n2    1610612748  \n3    1610612761  \n4             0  \n..          ...  \n610  1610612737  \n611  1610612746  \n612  1610612753  \n613  1610612743  \n614  1610612743  \n\n[615 rows x 8 columns]",
      "text/html": "<div>\n<style scoped>\n    .dataframe tbody tr th:only-of-type {\n        vertical-align: middle;\n    }\n\n    .dataframe tbody tr th {\n        vertical-align: top;\n    }\n\n    .dataframe thead th {\n        text-align: right;\n    }\n</style>\n<table border=\"1\" class=\"dataframe\">\n  <thead>\n    <tr style=\"text-align: right;\">\n      <th></th>\n      <th>index</th>\n      <th>id</th>\n      <th>Full_name</th>\n      <th>Firstname</th>\n      <th>Surname</th>\n      <th>Active</th>\n      <th>team_name</th>\n      <th>team_id</th>\n    </tr>\n  </thead>\n  <tbody>\n    <tr>\n      <th>0</th>\n      <td>0</td>\n      <td>1630173</td>\n      <td>Precious Achiuwa</td>\n      <td>Precious</td>\n      <td>Achiuwa</td>\n      <td>True</td>\n      <td>Knicks</td>\n      <td>1610612752</td>\n    </tr>\n    <tr>\n      <th>1</th>\n      <td>1</td>\n      <td>203500</td>\n      <td>Steven Adams</td>\n      <td>Steven</td>\n      <td>Adams</td>\n      <td>True</td>\n      <td>Rockets</td>\n      <td>1610612745</td>\n    </tr>\n    <tr>\n      <th>2</th>\n      <td>2</td>\n      <td>1628389</td>\n      <td>Bam Adebayo</td>\n      <td>Bam</td>\n      <td>Adebayo</td>\n      <td>True</td>\n      <td>Heat</td>\n      <td>1610612748</td>\n    </tr>\n    <tr>\n      <th>3</th>\n      <td>3</td>\n      <td>1630534</td>\n      <td>Ochai Agbaji</td>\n      <td>Ochai</td>\n      <td>Agbaji</td>\n      <td>True</td>\n      <td>Raptors</td>\n      <td>1610612761</td>\n    </tr>\n    <tr>\n      <th>4</th>\n      <td>4</td>\n      <td>1631231</td>\n      <td>James Akinjo</td>\n      <td>James</td>\n      <td>Akinjo</td>\n      <td>True</td>\n      <td>NaN</td>\n      <td>0</td>\n    </tr>\n    <tr>\n      <th>...</th>\n      <td>...</td>\n      <td>...</td>\n      <td>...</td>\n      <td>...</td>\n      <td>...</td>\n      <td>...</td>\n      <td>...</td>\n      <td>...</td>\n    </tr>\n    <tr>\n      <th>610</th>\n      <td>610</td>\n      <td>203469</td>\n      <td>Cody Zeller</td>\n      <td>Cody</td>\n      <td>Zeller</td>\n      <td>True</td>\n      <td>Hawks</td>\n      <td>1610612737</td>\n    </tr>\n    <tr>\n      <th>611</th>\n      <td>611</td>\n      <td>1627826</td>\n      <td>Ivica Zubac</td>\n      <td>Ivica</td>\n      <td>Zubac</td>\n      <td>True</td>\n      <td>Clippers</td>\n      <td>1610612746</td>\n    </tr>\n    <tr>\n      <th>612</th>\n      <td>612</td>\n      <td>1641783</td>\n      <td>Tristan da Silva</td>\n      <td>Tristan</td>\n      <td>da Silva</td>\n      <td>True</td>\n      <td>Magic</td>\n      <td>1610612753</td>\n    </tr>\n    <tr>\n      <th>613</th>\n      <td>613</td>\n      <td>1628427</td>\n      <td>Vlatko Čančar</td>\n      <td>Vlatko</td>\n      <td>Čančar</td>\n      <td>True</td>\n      <td>Nuggets</td>\n      <td>1610612743</td>\n    </tr>\n    <tr>\n      <th>614</th>\n      <td>614</td>\n      <td>203967</td>\n      <td>Dario Šarić</td>\n      <td>Dario</td>\n      <td>Šarić</td>\n      <td>True</td>\n      <td>Nuggets</td>\n      <td>1610612743</td>\n    </tr>\n  </tbody>\n</table>\n<p>615 rows × 8 columns</p>\n</div>"
     },
     "execution_count": 49,
     "metadata": {},
     "output_type": "execute_result"
    }
   ],
   "source": [
    "df = pd.read_csv('data/active_player_info_team.csv')\n",
    "df"
   ],
   "metadata": {
    "collapsed": false,
    "ExecuteTime": {
     "end_time": "2024-12-01T12:09:16.270115300Z",
     "start_time": "2024-12-01T12:09:16.245003100Z"
    }
   },
   "id": "4c018e08176c3254"
  },
  {
   "cell_type": "code",
   "execution_count": 50,
   "outputs": [
    {
     "data": {
      "text/plain": "      Unnamed: 0  PLAYER_ID PLAYER_NAME_LAST_FIRST        TEAM_NAME  \\\n0              0    1628369          Tatum, Jayson   Boston Celtics   \n1              1    1628369          Tatum, Jayson   Boston Celtics   \n2              2    1628369          Tatum, Jayson   Boston Celtics   \n3              3    1628369          Tatum, Jayson   Boston Celtics   \n4              4    1628369          Tatum, Jayson   Boston Celtics   \n...          ...        ...                    ...              ...   \n8180           3     201959            Gibson, Taj  Detroit Pistons   \n8181           4     201959            Gibson, Taj  Detroit Pistons   \n8182           5     201959            Gibson, Taj  Detroit Pistons   \n8183           6     201959            Gibson, Taj  Detroit Pistons   \n8184           7     201959            Gibson, Taj  Detroit Pistons   \n\n         TEAM_ID TEAM_ABBREVIATION PASS_TYPE   G          PASS_TO  \\\n0     1610612738               BOS      made  73   Banton, Dalano   \n1     1610612738               BOS      made  73      Hauser, Sam   \n2     1610612738               BOS      made  73  Springer, Jaden   \n3     1610612738               BOS      made  73  Tillman, Xavier   \n4     1610612738               BOS      made  73   Stevens, Lamar   \n...          ...               ...       ...  ..              ...   \n8180  1610612765               DET      made   4   Flynn, Malachi   \n8181  1610612765               DET      made   4   Wiseman, James   \n8182  1610612765               DET      made   4   Nowell, Jaylen   \n8183  1610612765               DET      made   4  Brown Jr., Troy   \n8184  1610612765               DET      made   4   Fournier, Evan   \n\n      PASS_TEAMMATE_PLAYER_ID  ...  AST  FGM  FGA  FG_PCT  FG2M  FG2A  \\\n0                     1630625  ...    2    2    4   0.500     1     2   \n1                     1630573  ...   39   40   82   0.488     6    12   \n2                     1630531  ...    0    0    1   0.000     0     0   \n3                     1630214  ...    2    2    7   0.286     0     2   \n4                     1630205  ...    1    1    3   0.333     0     0   \n...                       ...  ...  ...  ...  ...     ...   ...   ...   \n8180                  1630201  ...    0    0    4   0.000     0     2   \n8181                  1630164  ...    0    0    0   0.000     0     0   \n8182                  1629669  ...    0    0    1   0.000     0     0   \n8183                  1628972  ...    1    1    2   0.500     1     2   \n8184                   203095  ...    0    0    1   0.000     0     0   \n\n      FG2_PCT  FG3M  FG3A  FG3_PCT  \n0         0.5     1     2    0.500  \n1         0.5    34    70    0.486  \n2         0.0     0     1    0.000  \n3         0.0     2     5    0.400  \n4         0.0     1     3    0.333  \n...       ...   ...   ...      ...  \n8180      0.0     0     2    0.000  \n8181      0.0     0     0    0.000  \n8182      0.0     0     1    0.000  \n8183      0.5     0     0    0.000  \n8184      0.0     0     1    0.000  \n\n[8185 rows x 22 columns]",
      "text/html": "<div>\n<style scoped>\n    .dataframe tbody tr th:only-of-type {\n        vertical-align: middle;\n    }\n\n    .dataframe tbody tr th {\n        vertical-align: top;\n    }\n\n    .dataframe thead th {\n        text-align: right;\n    }\n</style>\n<table border=\"1\" class=\"dataframe\">\n  <thead>\n    <tr style=\"text-align: right;\">\n      <th></th>\n      <th>Unnamed: 0</th>\n      <th>PLAYER_ID</th>\n      <th>PLAYER_NAME_LAST_FIRST</th>\n      <th>TEAM_NAME</th>\n      <th>TEAM_ID</th>\n      <th>TEAM_ABBREVIATION</th>\n      <th>PASS_TYPE</th>\n      <th>G</th>\n      <th>PASS_TO</th>\n      <th>PASS_TEAMMATE_PLAYER_ID</th>\n      <th>...</th>\n      <th>AST</th>\n      <th>FGM</th>\n      <th>FGA</th>\n      <th>FG_PCT</th>\n      <th>FG2M</th>\n      <th>FG2A</th>\n      <th>FG2_PCT</th>\n      <th>FG3M</th>\n      <th>FG3A</th>\n      <th>FG3_PCT</th>\n    </tr>\n  </thead>\n  <tbody>\n    <tr>\n      <th>0</th>\n      <td>0</td>\n      <td>1628369</td>\n      <td>Tatum, Jayson</td>\n      <td>Boston Celtics</td>\n      <td>1610612738</td>\n      <td>BOS</td>\n      <td>made</td>\n      <td>73</td>\n      <td>Banton, Dalano</td>\n      <td>1630625</td>\n      <td>...</td>\n      <td>2</td>\n      <td>2</td>\n      <td>4</td>\n      <td>0.500</td>\n      <td>1</td>\n      <td>2</td>\n      <td>0.5</td>\n      <td>1</td>\n      <td>2</td>\n      <td>0.500</td>\n    </tr>\n    <tr>\n      <th>1</th>\n      <td>1</td>\n      <td>1628369</td>\n      <td>Tatum, Jayson</td>\n      <td>Boston Celtics</td>\n      <td>1610612738</td>\n      <td>BOS</td>\n      <td>made</td>\n      <td>73</td>\n      <td>Hauser, Sam</td>\n      <td>1630573</td>\n      <td>...</td>\n      <td>39</td>\n      <td>40</td>\n      <td>82</td>\n      <td>0.488</td>\n      <td>6</td>\n      <td>12</td>\n      <td>0.5</td>\n      <td>34</td>\n      <td>70</td>\n      <td>0.486</td>\n    </tr>\n    <tr>\n      <th>2</th>\n      <td>2</td>\n      <td>1628369</td>\n      <td>Tatum, Jayson</td>\n      <td>Boston Celtics</td>\n      <td>1610612738</td>\n      <td>BOS</td>\n      <td>made</td>\n      <td>73</td>\n      <td>Springer, Jaden</td>\n      <td>1630531</td>\n      <td>...</td>\n      <td>0</td>\n      <td>0</td>\n      <td>1</td>\n      <td>0.000</td>\n      <td>0</td>\n      <td>0</td>\n      <td>0.0</td>\n      <td>0</td>\n      <td>1</td>\n      <td>0.000</td>\n    </tr>\n    <tr>\n      <th>3</th>\n      <td>3</td>\n      <td>1628369</td>\n      <td>Tatum, Jayson</td>\n      <td>Boston Celtics</td>\n      <td>1610612738</td>\n      <td>BOS</td>\n      <td>made</td>\n      <td>73</td>\n      <td>Tillman, Xavier</td>\n      <td>1630214</td>\n      <td>...</td>\n      <td>2</td>\n      <td>2</td>\n      <td>7</td>\n      <td>0.286</td>\n      <td>0</td>\n      <td>2</td>\n      <td>0.0</td>\n      <td>2</td>\n      <td>5</td>\n      <td>0.400</td>\n    </tr>\n    <tr>\n      <th>4</th>\n      <td>4</td>\n      <td>1628369</td>\n      <td>Tatum, Jayson</td>\n      <td>Boston Celtics</td>\n      <td>1610612738</td>\n      <td>BOS</td>\n      <td>made</td>\n      <td>73</td>\n      <td>Stevens, Lamar</td>\n      <td>1630205</td>\n      <td>...</td>\n      <td>1</td>\n      <td>1</td>\n      <td>3</td>\n      <td>0.333</td>\n      <td>0</td>\n      <td>0</td>\n      <td>0.0</td>\n      <td>1</td>\n      <td>3</td>\n      <td>0.333</td>\n    </tr>\n    <tr>\n      <th>...</th>\n      <td>...</td>\n      <td>...</td>\n      <td>...</td>\n      <td>...</td>\n      <td>...</td>\n      <td>...</td>\n      <td>...</td>\n      <td>...</td>\n      <td>...</td>\n      <td>...</td>\n      <td>...</td>\n      <td>...</td>\n      <td>...</td>\n      <td>...</td>\n      <td>...</td>\n      <td>...</td>\n      <td>...</td>\n      <td>...</td>\n      <td>...</td>\n      <td>...</td>\n      <td>...</td>\n    </tr>\n    <tr>\n      <th>8180</th>\n      <td>3</td>\n      <td>201959</td>\n      <td>Gibson, Taj</td>\n      <td>Detroit Pistons</td>\n      <td>1610612765</td>\n      <td>DET</td>\n      <td>made</td>\n      <td>4</td>\n      <td>Flynn, Malachi</td>\n      <td>1630201</td>\n      <td>...</td>\n      <td>0</td>\n      <td>0</td>\n      <td>4</td>\n      <td>0.000</td>\n      <td>0</td>\n      <td>2</td>\n      <td>0.0</td>\n      <td>0</td>\n      <td>2</td>\n      <td>0.000</td>\n    </tr>\n    <tr>\n      <th>8181</th>\n      <td>4</td>\n      <td>201959</td>\n      <td>Gibson, Taj</td>\n      <td>Detroit Pistons</td>\n      <td>1610612765</td>\n      <td>DET</td>\n      <td>made</td>\n      <td>4</td>\n      <td>Wiseman, James</td>\n      <td>1630164</td>\n      <td>...</td>\n      <td>0</td>\n      <td>0</td>\n      <td>0</td>\n      <td>0.000</td>\n      <td>0</td>\n      <td>0</td>\n      <td>0.0</td>\n      <td>0</td>\n      <td>0</td>\n      <td>0.000</td>\n    </tr>\n    <tr>\n      <th>8182</th>\n      <td>5</td>\n      <td>201959</td>\n      <td>Gibson, Taj</td>\n      <td>Detroit Pistons</td>\n      <td>1610612765</td>\n      <td>DET</td>\n      <td>made</td>\n      <td>4</td>\n      <td>Nowell, Jaylen</td>\n      <td>1629669</td>\n      <td>...</td>\n      <td>0</td>\n      <td>0</td>\n      <td>1</td>\n      <td>0.000</td>\n      <td>0</td>\n      <td>0</td>\n      <td>0.0</td>\n      <td>0</td>\n      <td>1</td>\n      <td>0.000</td>\n    </tr>\n    <tr>\n      <th>8183</th>\n      <td>6</td>\n      <td>201959</td>\n      <td>Gibson, Taj</td>\n      <td>Detroit Pistons</td>\n      <td>1610612765</td>\n      <td>DET</td>\n      <td>made</td>\n      <td>4</td>\n      <td>Brown Jr., Troy</td>\n      <td>1628972</td>\n      <td>...</td>\n      <td>1</td>\n      <td>1</td>\n      <td>2</td>\n      <td>0.500</td>\n      <td>1</td>\n      <td>2</td>\n      <td>0.5</td>\n      <td>0</td>\n      <td>0</td>\n      <td>0.000</td>\n    </tr>\n    <tr>\n      <th>8184</th>\n      <td>7</td>\n      <td>201959</td>\n      <td>Gibson, Taj</td>\n      <td>Detroit Pistons</td>\n      <td>1610612765</td>\n      <td>DET</td>\n      <td>made</td>\n      <td>4</td>\n      <td>Fournier, Evan</td>\n      <td>203095</td>\n      <td>...</td>\n      <td>0</td>\n      <td>0</td>\n      <td>1</td>\n      <td>0.000</td>\n      <td>0</td>\n      <td>0</td>\n      <td>0.0</td>\n      <td>0</td>\n      <td>1</td>\n      <td>0.000</td>\n    </tr>\n  </tbody>\n</table>\n<p>8185 rows × 22 columns</p>\n</div>"
     },
     "execution_count": 50,
     "metadata": {},
     "output_type": "execute_result"
    }
   ],
   "source": [
    "passing_stats_df = pd.read_csv('data/NBA_pass_data_2324_totals_regularseason.csv')\n",
    "passing_stats_df"
   ],
   "metadata": {
    "collapsed": false,
    "ExecuteTime": {
     "end_time": "2024-12-01T12:09:16.731999700Z",
     "start_time": "2024-12-01T12:09:16.671359100Z"
    }
   },
   "id": "7bb878c771d010b"
  },
  {
   "cell_type": "code",
   "execution_count": 51,
   "outputs": [
    {
     "data": {
      "text/plain": "             Player Name  Player ID  Total Points\n0          Tatum, Jayson    1628369          1987\n1          Holiday, Jrue     201950           860\n2          Brown, Jaylen    1627759             0\n3    Porziņģis, Kristaps     204001          1145\n4         White, Derrick    1628401          1107\n..                   ...        ...           ...\n517       Sasser, Marcus    1631204           586\n518       Boeheim, Buddy    1631205            34\n519      Stewart, Isaiah    1630191           503\n520       Fournier, Evan     203095           220\n521          Gibson, Taj     201959            34\n\n[522 rows x 3 columns]",
      "text/html": "<div>\n<style scoped>\n    .dataframe tbody tr th:only-of-type {\n        vertical-align: middle;\n    }\n\n    .dataframe tbody tr th {\n        vertical-align: top;\n    }\n\n    .dataframe thead th {\n        text-align: right;\n    }\n</style>\n<table border=\"1\" class=\"dataframe\">\n  <thead>\n    <tr style=\"text-align: right;\">\n      <th></th>\n      <th>Player Name</th>\n      <th>Player ID</th>\n      <th>Total Points</th>\n    </tr>\n  </thead>\n  <tbody>\n    <tr>\n      <th>0</th>\n      <td>Tatum, Jayson</td>\n      <td>1628369</td>\n      <td>1987</td>\n    </tr>\n    <tr>\n      <th>1</th>\n      <td>Holiday, Jrue</td>\n      <td>201950</td>\n      <td>860</td>\n    </tr>\n    <tr>\n      <th>2</th>\n      <td>Brown, Jaylen</td>\n      <td>1627759</td>\n      <td>0</td>\n    </tr>\n    <tr>\n      <th>3</th>\n      <td>Porziņģis, Kristaps</td>\n      <td>204001</td>\n      <td>1145</td>\n    </tr>\n    <tr>\n      <th>4</th>\n      <td>White, Derrick</td>\n      <td>1628401</td>\n      <td>1107</td>\n    </tr>\n    <tr>\n      <th>...</th>\n      <td>...</td>\n      <td>...</td>\n      <td>...</td>\n    </tr>\n    <tr>\n      <th>517</th>\n      <td>Sasser, Marcus</td>\n      <td>1631204</td>\n      <td>586</td>\n    </tr>\n    <tr>\n      <th>518</th>\n      <td>Boeheim, Buddy</td>\n      <td>1631205</td>\n      <td>34</td>\n    </tr>\n    <tr>\n      <th>519</th>\n      <td>Stewart, Isaiah</td>\n      <td>1630191</td>\n      <td>503</td>\n    </tr>\n    <tr>\n      <th>520</th>\n      <td>Fournier, Evan</td>\n      <td>203095</td>\n      <td>220</td>\n    </tr>\n    <tr>\n      <th>521</th>\n      <td>Gibson, Taj</td>\n      <td>201959</td>\n      <td>34</td>\n    </tr>\n  </tbody>\n</table>\n<p>522 rows × 3 columns</p>\n</div>"
     },
     "execution_count": 51,
     "metadata": {},
     "output_type": "execute_result"
    }
   ],
   "source": [
    "df_total_score = pd.read_csv('data/nba_players_total_points_2023_24.csv')\n",
    "df_total_score"
   ],
   "metadata": {
    "collapsed": false,
    "ExecuteTime": {
     "end_time": "2024-12-01T12:09:17.700023400Z",
     "start_time": "2024-12-01T12:09:17.652581700Z"
    }
   },
   "id": "c7ba43f9fb0a7357"
  },
  {
   "cell_type": "markdown",
   "source": [
    "Make the graph of the player total scoring and the assists that they have"
   ],
   "metadata": {
    "collapsed": false
   },
   "id": "192ffee3bc7c7cd2"
  },
  {
   "cell_type": "code",
   "execution_count": 6,
   "outputs": [],
   "source": [
    "G = nx.DiGraph()\n",
    "G.add_node('GOAL', attr='Goal')"
   ],
   "metadata": {
    "collapsed": false,
    "ExecuteTime": {
     "end_time": "2024-12-01T10:25:57.970093800Z",
     "start_time": "2024-12-01T10:25:57.968260200Z"
    }
   },
   "id": "85e9f7766d8fabcf"
  },
  {
   "cell_type": "code",
   "execution_count": 7,
   "outputs": [],
   "source": [
    "for index, row in passing_stats_df.iterrows():\n",
    "    player = row['PLAYER_NAME_LAST_FIRST']\n",
    "    player2 = row['PASS_TO']\n",
    "    team = row['TEAM_NAME']\n",
    "    if not G.has_node(player):\n",
    "        G.add_node(player, attr=team)\n",
    "    if not G.has_node(player2):\n",
    "        G.add_node(player2, attr=team)"
   ],
   "metadata": {
    "collapsed": false,
    "ExecuteTime": {
     "end_time": "2024-12-01T10:25:58.555963100Z",
     "start_time": "2024-12-01T10:25:58.331039Z"
    }
   },
   "id": "bb8d95d4ceb6646a"
  },
  {
   "cell_type": "code",
   "execution_count": 8,
   "outputs": [],
   "source": [
    "for index, row in passing_stats_df.iterrows():\n",
    "    edge = (row['PLAYER_NAME_LAST_FIRST'], row['PASS_TO'])\n",
    "    weight = row['PASS']\n",
    "    if G.has_edge(*edge):\n",
    "        # If the edge exists, add to the current weight\n",
    "        G[edge[0]][edge[1]]['weight'] += weight\n",
    "    else:\n",
    "        G.add_edge(edge[0], edge[1], weight=weight) # To avoid having nodes that don't have any edges we give each edges a weight of at least 1, to ensure that the communities remain the same"
   ],
   "metadata": {
    "collapsed": false,
    "ExecuteTime": {
     "end_time": "2024-12-01T10:25:59.396553700Z",
     "start_time": "2024-12-01T10:25:59.135863500Z"
    }
   },
   "id": "5b325486274f69ab"
  },
  {
   "cell_type": "code",
   "execution_count": 10,
   "outputs": [],
   "source": [
    "for index, row in df_total_score.iterrows():\n",
    "    edge = (row['Player Name'], 'GOAL')\n",
    "    weight = row['Total Points']\n",
    "    G.add_edge(edge[0], edge[1], weight=weight) # add the number of points from a player to the GOAL        "
   ],
   "metadata": {
    "collapsed": false,
    "ExecuteTime": {
     "end_time": "2024-12-01T10:26:20.121602100Z",
     "start_time": "2024-12-01T10:26:20.092705200Z"
    }
   },
   "id": "2773124f51f0ef9f"
  },
  {
   "cell_type": "code",
   "execution_count": 11,
   "outputs": [],
   "source": [
    "# Export the graph as .gexf to load it in Gephi\n",
    "nx.write_gexf(G, \"plot1_pass_score.gexf\")"
   ],
   "metadata": {
    "collapsed": false,
    "ExecuteTime": {
     "end_time": "2024-12-01T10:26:40.621715900Z",
     "start_time": "2024-12-01T10:26:40.482990Z"
    }
   },
   "id": "8a111bdcbed74cf"
  },
  {
   "cell_type": "markdown",
   "source": [
    "Make the graph of the player total scoring and the assists that they have without the goal node"
   ],
   "metadata": {
    "collapsed": false
   },
   "id": "d1886cc953bfa9"
  },
  {
   "cell_type": "code",
   "execution_count": 5,
   "outputs": [],
   "source": [
    "G = nx.DiGraph()\n",
    "for index, row in passing_stats_df.iterrows():\n",
    "    player = row['PLAYER_NAME_LAST_FIRST']\n",
    "    player2 = row['PASS_TO']\n",
    "    team = row['TEAM_NAME']\n",
    "    if not G.has_node(player):\n",
    "        G.add_node(player, attr=team)\n",
    "    if not G.has_node(player2):\n",
    "        G.add_node(player2, attr=team)\n",
    "for index, row in passing_stats_df.iterrows():\n",
    "    edge = (row['PLAYER_NAME_LAST_FIRST'], row['PASS_TO'])\n",
    "    weight = row['PASS']\n",
    "    if G.has_edge(*edge):\n",
    "        # If the edge exists, add to the current weight\n",
    "        G[edge[0]][edge[1]]['weight'] += weight\n",
    "    else:\n",
    "        G.add_edge(edge[0], edge[1],\n",
    "                   weight=weight) \n",
    "# Export the graph as .gexf to load it in Gephi\n",
    "nx.write_gexf(G, \"plot2_pass.gexf\")"
   ],
   "metadata": {
    "collapsed": false,
    "ExecuteTime": {
     "end_time": "2024-12-01T10:22:44.303301300Z",
     "start_time": "2024-12-01T10:22:43.752041200Z"
    }
   },
   "id": "1153698c8ee2ee2b"
  },
  {
   "cell_type": "markdown",
   "source": [
    "Make the graph with the number of passed between each player and the number of made attempts based on the number of total attempts (value normalized based on the number of game played)"
   ],
   "metadata": {
    "collapsed": false
   },
   "id": "59068fa847b63560"
  },
  {
   "cell_type": "code",
   "execution_count": 52,
   "outputs": [],
   "source": [
    "G = nx.DiGraph()\n",
    "G.add_node('GOAL', attr='Goal')"
   ],
   "metadata": {
    "collapsed": false,
    "ExecuteTime": {
     "end_time": "2024-12-01T12:09:22.032347400Z",
     "start_time": "2024-12-01T12:09:22.028002300Z"
    }
   },
   "id": "54e292c543a469e9"
  },
  {
   "cell_type": "code",
   "execution_count": 53,
   "outputs": [],
   "source": [
    "for index, row in passing_stats_df.iterrows():\n",
    "    player = row['PLAYER_NAME_LAST_FIRST']\n",
    "    player2 = row['PASS_TO']\n",
    "    team = row['TEAM_NAME']\n",
    "    if not G.has_node(player):\n",
    "        G.add_node(player, attr=team)\n",
    "    if not G.has_node(player2):\n",
    "        G.add_node(player2, attr=team)"
   ],
   "metadata": {
    "collapsed": false,
    "ExecuteTime": {
     "end_time": "2024-12-01T12:09:22.726325800Z",
     "start_time": "2024-12-01T12:09:22.502017200Z"
    }
   },
   "id": "6c557f61c29709a5"
  },
  {
   "cell_type": "code",
   "execution_count": 54,
   "outputs": [],
   "source": [
    "for index, row in passing_stats_df.iterrows():\n",
    "    edge = (row['PLAYER_NAME_LAST_FIRST'], row['PASS_TO'])\n",
    "    weight = row['FREQUENCY']\n",
    "    if G.has_edge(*edge):\n",
    "        # If the edge exists, add to the current weight\n",
    "        G[edge[0]][edge[1]]['weight'] += weight\n",
    "    else:\n",
    "        G.add_edge(edge[0], edge[1], weight=weight)"
   ],
   "metadata": {
    "collapsed": false,
    "ExecuteTime": {
     "end_time": "2024-12-01T12:09:24.274344600Z",
     "start_time": "2024-12-01T12:09:24.041994Z"
    }
   },
   "id": "6daba3db9074bec5"
  },
  {
   "cell_type": "code",
   "execution_count": 55,
   "outputs": [],
   "source": [
    "player_counts = passing_stats_df['PLAYER_NAME_LAST_FIRST'].value_counts()\n",
    "\n",
    "for index, row in passing_stats_df.iterrows():\n",
    "    if row['FGA'] == 0 and row['FG2A'] == 0 and row['FG3A'] == 0:\n",
    "        player_name = row['PLAYER_NAME_LAST_FIRST']\n",
    "        player_counts[player_name] -= 1\n",
    "        "
   ],
   "metadata": {
    "collapsed": false,
    "ExecuteTime": {
     "end_time": "2024-12-01T12:09:25.540497800Z",
     "start_time": "2024-12-01T12:09:25.343135400Z"
    }
   },
   "id": "1bfaeb2babe43ec1"
  },
  {
   "cell_type": "code",
   "execution_count": 56,
   "outputs": [],
   "source": [
    "for index, row in passing_stats_df.iterrows():\n",
    "    count = player_counts.get(row['PLAYER_NAME_LAST_FIRST'],0)\n",
    "    edge = (row['PLAYER_NAME_LAST_FIRST'], 'GOAL')\n",
    "    # Determine the number of non-zero attempt columns\n",
    "    attempts = [row['FGA'], row['FG2A'], row['FG3A']]\n",
    "    non_zero_attempts = sum(1 for attempt in attempts if attempt != 0)\n",
    "    \n",
    "    # Avoid division by zero in case all attempts are zero\n",
    "    if non_zero_attempts > 0:\n",
    "        weight = (row['FG_PCT'] + row['FG2_PCT'] + row['FG3_PCT']) / non_zero_attempts\n",
    "        weight /= count\n",
    "    else:\n",
    "        weight = 0  # Assign 0 weight if no attempts\n",
    "    \n",
    "    if G.has_edge(*edge):\n",
    "        # If the edge exists, add to the current weight\n",
    "        G[edge[0]][edge[1]]['weight'] += weight\n",
    "    else:\n",
    "        G.add_edge(edge[0], edge[1], weight=weight)"
   ],
   "metadata": {
    "collapsed": false,
    "ExecuteTime": {
     "end_time": "2024-12-01T12:09:27.735457500Z",
     "start_time": "2024-12-01T12:09:27.367084400Z"
    }
   },
   "id": "94c031dae0ca2f01"
  },
  {
   "cell_type": "code",
   "execution_count": 57,
   "outputs": [],
   "source": [
    "# Export the graph as .gexf to load it in Gephi\n",
    "nx.write_gexf(G, \"plot3_freq_attempts.gexf\")"
   ],
   "metadata": {
    "collapsed": false,
    "ExecuteTime": {
     "end_time": "2024-12-01T12:09:28.875025700Z",
     "start_time": "2024-12-01T12:09:28.793363100Z"
    }
   },
   "id": "6d39fd01ee8af33f"
  },
  {
   "cell_type": "markdown",
   "source": [
    "Make the graph with the number of passed between each player and the number of made attempts based on the number of total attempts (value normalized based on the number of game played) without the goal"
   ],
   "metadata": {
    "collapsed": false
   },
   "id": "9a48c35299edf1b1"
  },
  {
   "cell_type": "code",
   "execution_count": 38,
   "outputs": [],
   "source": [
    "G = nx.DiGraph()\n",
    "for index, row in passing_stats_df.iterrows():\n",
    "    player = row['PLAYER_NAME_LAST_FIRST']\n",
    "    player2 = row['PASS_TO']\n",
    "    team = row['TEAM_NAME']\n",
    "    if not G.has_node(player):\n",
    "        G.add_node(player, attr=team)\n",
    "    if not G.has_node(player2):\n",
    "        G.add_node(player2, attr=team)\n",
    "for index, row in passing_stats_df.iterrows():\n",
    "    edge = (row['PLAYER_NAME_LAST_FIRST'], row['PASS_TO'])\n",
    "    weight = row['FREQUENCY']\n",
    "    if G.has_edge(*edge):\n",
    "        # If the edge exists, add to the current weight\n",
    "        G[edge[0]][edge[1]]['weight'] += weight\n",
    "    else:\n",
    "        G.add_edge(edge[0], edge[1], weight=weight)\n",
    "\n",
    "# Export the graph as .gexf to load it in Gephi\n",
    "nx.write_gexf(G, \"plot4_freq.gexf\")"
   ],
   "metadata": {
    "collapsed": false,
    "ExecuteTime": {
     "end_time": "2024-12-01T10:34:19.270645Z",
     "start_time": "2024-12-01T10:34:18.684107900Z"
    }
   },
   "id": "99f2a82298e4b834"
  },
  {
   "cell_type": "markdown",
   "source": [
    "Make the graph of the player total scoring and the assists that they have (Specific team Boston)"
   ],
   "metadata": {
    "collapsed": false
   },
   "id": "a8260397b520acfd"
  },
  {
   "cell_type": "code",
   "execution_count": 47,
   "outputs": [
    {
     "data": {
      "text/plain": "     Unnamed: 0  PLAYER_ID PLAYER_NAME_LAST_FIRST       TEAM_NAME     TEAM_ID  \\\n0             0    1628369          Tatum, Jayson  Boston Celtics  1610612738   \n1             1    1628369          Tatum, Jayson  Boston Celtics  1610612738   \n2             2    1628369          Tatum, Jayson  Boston Celtics  1610612738   \n3             3    1628369          Tatum, Jayson  Boston Celtics  1610612738   \n4             4    1628369          Tatum, Jayson  Boston Celtics  1610612738   \n..          ...        ...                    ...             ...         ...   \n239          12    1629674         Queta, Neemias  Boston Celtics  1610612738   \n240          13    1629674         Queta, Neemias  Boston Celtics  1610612738   \n241          14    1629674         Queta, Neemias  Boston Celtics  1610612738   \n242          15    1629674         Queta, Neemias  Boston Celtics  1610612738   \n243          16    1629674         Queta, Neemias  Boston Celtics  1610612738   \n\n    TEAM_ABBREVIATION PASS_TYPE   G          PASS_TO  PASS_TEAMMATE_PLAYER_ID  \\\n0                 BOS      made  73   Banton, Dalano                  1630625   \n1                 BOS      made  73      Hauser, Sam                  1630573   \n2                 BOS      made  73  Springer, Jaden                  1630531   \n3                 BOS      made  73  Tillman, Xavier                  1630214   \n4                 BOS      made  73   Stevens, Lamar                  1630205   \n..                ...       ...  ..              ...                      ...   \n239               BOS      made  28   White, Derrick                  1628401   \n240               BOS      made  28    Tatum, Jayson                  1628369   \n241               BOS      made  28    Brown, Jaylen                  1627759   \n242               BOS      made  28    Holiday, Jrue                   201950   \n243               BOS      made  28      Horford, Al                   201143   \n\n     ...  AST  FGM  FGA  FG_PCT  FG2M  FG2A  FG2_PCT  FG3M  FG3A  FG3_PCT  \n0    ...    2    2    4   0.500     1     2    0.500     1     2    0.500  \n1    ...   39   40   82   0.488     6    12    0.500    34    70    0.486  \n2    ...    0    0    1   0.000     0     0    0.000     0     1    0.000  \n3    ...    2    2    7   0.286     0     2    0.000     2     5    0.400  \n4    ...    1    1    3   0.333     0     0    0.000     1     3    0.333  \n..   ...  ...  ...  ...     ...   ...   ...      ...   ...   ...      ...  \n239  ...    1    3   10   0.300     2     6    0.333     1     4    0.250  \n240  ...    1    3    9   0.333     1     5    0.200     2     4    0.500  \n241  ...    0    1    1   1.000     0     0    0.000     1     1    1.000  \n242  ...    1    3    5   0.600     2     4    0.500     1     1    1.000  \n243  ...    0    0    0   0.000     0     0    0.000     0     0    0.000  \n\n[244 rows x 22 columns]",
      "text/html": "<div>\n<style scoped>\n    .dataframe tbody tr th:only-of-type {\n        vertical-align: middle;\n    }\n\n    .dataframe tbody tr th {\n        vertical-align: top;\n    }\n\n    .dataframe thead th {\n        text-align: right;\n    }\n</style>\n<table border=\"1\" class=\"dataframe\">\n  <thead>\n    <tr style=\"text-align: right;\">\n      <th></th>\n      <th>Unnamed: 0</th>\n      <th>PLAYER_ID</th>\n      <th>PLAYER_NAME_LAST_FIRST</th>\n      <th>TEAM_NAME</th>\n      <th>TEAM_ID</th>\n      <th>TEAM_ABBREVIATION</th>\n      <th>PASS_TYPE</th>\n      <th>G</th>\n      <th>PASS_TO</th>\n      <th>PASS_TEAMMATE_PLAYER_ID</th>\n      <th>...</th>\n      <th>AST</th>\n      <th>FGM</th>\n      <th>FGA</th>\n      <th>FG_PCT</th>\n      <th>FG2M</th>\n      <th>FG2A</th>\n      <th>FG2_PCT</th>\n      <th>FG3M</th>\n      <th>FG3A</th>\n      <th>FG3_PCT</th>\n    </tr>\n  </thead>\n  <tbody>\n    <tr>\n      <th>0</th>\n      <td>0</td>\n      <td>1628369</td>\n      <td>Tatum, Jayson</td>\n      <td>Boston Celtics</td>\n      <td>1610612738</td>\n      <td>BOS</td>\n      <td>made</td>\n      <td>73</td>\n      <td>Banton, Dalano</td>\n      <td>1630625</td>\n      <td>...</td>\n      <td>2</td>\n      <td>2</td>\n      <td>4</td>\n      <td>0.500</td>\n      <td>1</td>\n      <td>2</td>\n      <td>0.500</td>\n      <td>1</td>\n      <td>2</td>\n      <td>0.500</td>\n    </tr>\n    <tr>\n      <th>1</th>\n      <td>1</td>\n      <td>1628369</td>\n      <td>Tatum, Jayson</td>\n      <td>Boston Celtics</td>\n      <td>1610612738</td>\n      <td>BOS</td>\n      <td>made</td>\n      <td>73</td>\n      <td>Hauser, Sam</td>\n      <td>1630573</td>\n      <td>...</td>\n      <td>39</td>\n      <td>40</td>\n      <td>82</td>\n      <td>0.488</td>\n      <td>6</td>\n      <td>12</td>\n      <td>0.500</td>\n      <td>34</td>\n      <td>70</td>\n      <td>0.486</td>\n    </tr>\n    <tr>\n      <th>2</th>\n      <td>2</td>\n      <td>1628369</td>\n      <td>Tatum, Jayson</td>\n      <td>Boston Celtics</td>\n      <td>1610612738</td>\n      <td>BOS</td>\n      <td>made</td>\n      <td>73</td>\n      <td>Springer, Jaden</td>\n      <td>1630531</td>\n      <td>...</td>\n      <td>0</td>\n      <td>0</td>\n      <td>1</td>\n      <td>0.000</td>\n      <td>0</td>\n      <td>0</td>\n      <td>0.000</td>\n      <td>0</td>\n      <td>1</td>\n      <td>0.000</td>\n    </tr>\n    <tr>\n      <th>3</th>\n      <td>3</td>\n      <td>1628369</td>\n      <td>Tatum, Jayson</td>\n      <td>Boston Celtics</td>\n      <td>1610612738</td>\n      <td>BOS</td>\n      <td>made</td>\n      <td>73</td>\n      <td>Tillman, Xavier</td>\n      <td>1630214</td>\n      <td>...</td>\n      <td>2</td>\n      <td>2</td>\n      <td>7</td>\n      <td>0.286</td>\n      <td>0</td>\n      <td>2</td>\n      <td>0.000</td>\n      <td>2</td>\n      <td>5</td>\n      <td>0.400</td>\n    </tr>\n    <tr>\n      <th>4</th>\n      <td>4</td>\n      <td>1628369</td>\n      <td>Tatum, Jayson</td>\n      <td>Boston Celtics</td>\n      <td>1610612738</td>\n      <td>BOS</td>\n      <td>made</td>\n      <td>73</td>\n      <td>Stevens, Lamar</td>\n      <td>1630205</td>\n      <td>...</td>\n      <td>1</td>\n      <td>1</td>\n      <td>3</td>\n      <td>0.333</td>\n      <td>0</td>\n      <td>0</td>\n      <td>0.000</td>\n      <td>1</td>\n      <td>3</td>\n      <td>0.333</td>\n    </tr>\n    <tr>\n      <th>...</th>\n      <td>...</td>\n      <td>...</td>\n      <td>...</td>\n      <td>...</td>\n      <td>...</td>\n      <td>...</td>\n      <td>...</td>\n      <td>...</td>\n      <td>...</td>\n      <td>...</td>\n      <td>...</td>\n      <td>...</td>\n      <td>...</td>\n      <td>...</td>\n      <td>...</td>\n      <td>...</td>\n      <td>...</td>\n      <td>...</td>\n      <td>...</td>\n      <td>...</td>\n      <td>...</td>\n    </tr>\n    <tr>\n      <th>239</th>\n      <td>12</td>\n      <td>1629674</td>\n      <td>Queta, Neemias</td>\n      <td>Boston Celtics</td>\n      <td>1610612738</td>\n      <td>BOS</td>\n      <td>made</td>\n      <td>28</td>\n      <td>White, Derrick</td>\n      <td>1628401</td>\n      <td>...</td>\n      <td>1</td>\n      <td>3</td>\n      <td>10</td>\n      <td>0.300</td>\n      <td>2</td>\n      <td>6</td>\n      <td>0.333</td>\n      <td>1</td>\n      <td>4</td>\n      <td>0.250</td>\n    </tr>\n    <tr>\n      <th>240</th>\n      <td>13</td>\n      <td>1629674</td>\n      <td>Queta, Neemias</td>\n      <td>Boston Celtics</td>\n      <td>1610612738</td>\n      <td>BOS</td>\n      <td>made</td>\n      <td>28</td>\n      <td>Tatum, Jayson</td>\n      <td>1628369</td>\n      <td>...</td>\n      <td>1</td>\n      <td>3</td>\n      <td>9</td>\n      <td>0.333</td>\n      <td>1</td>\n      <td>5</td>\n      <td>0.200</td>\n      <td>2</td>\n      <td>4</td>\n      <td>0.500</td>\n    </tr>\n    <tr>\n      <th>241</th>\n      <td>14</td>\n      <td>1629674</td>\n      <td>Queta, Neemias</td>\n      <td>Boston Celtics</td>\n      <td>1610612738</td>\n      <td>BOS</td>\n      <td>made</td>\n      <td>28</td>\n      <td>Brown, Jaylen</td>\n      <td>1627759</td>\n      <td>...</td>\n      <td>0</td>\n      <td>1</td>\n      <td>1</td>\n      <td>1.000</td>\n      <td>0</td>\n      <td>0</td>\n      <td>0.000</td>\n      <td>1</td>\n      <td>1</td>\n      <td>1.000</td>\n    </tr>\n    <tr>\n      <th>242</th>\n      <td>15</td>\n      <td>1629674</td>\n      <td>Queta, Neemias</td>\n      <td>Boston Celtics</td>\n      <td>1610612738</td>\n      <td>BOS</td>\n      <td>made</td>\n      <td>28</td>\n      <td>Holiday, Jrue</td>\n      <td>201950</td>\n      <td>...</td>\n      <td>1</td>\n      <td>3</td>\n      <td>5</td>\n      <td>0.600</td>\n      <td>2</td>\n      <td>4</td>\n      <td>0.500</td>\n      <td>1</td>\n      <td>1</td>\n      <td>1.000</td>\n    </tr>\n    <tr>\n      <th>243</th>\n      <td>16</td>\n      <td>1629674</td>\n      <td>Queta, Neemias</td>\n      <td>Boston Celtics</td>\n      <td>1610612738</td>\n      <td>BOS</td>\n      <td>made</td>\n      <td>28</td>\n      <td>Horford, Al</td>\n      <td>201143</td>\n      <td>...</td>\n      <td>0</td>\n      <td>0</td>\n      <td>0</td>\n      <td>0.000</td>\n      <td>0</td>\n      <td>0</td>\n      <td>0.000</td>\n      <td>0</td>\n      <td>0</td>\n      <td>0.000</td>\n    </tr>\n  </tbody>\n</table>\n<p>244 rows × 22 columns</p>\n</div>"
     },
     "execution_count": 47,
     "metadata": {},
     "output_type": "execute_result"
    }
   ],
   "source": [
    "passing_stats_df = pd.read_csv('data/NBA_pass_data_2324_totals_regularseason.csv')\n",
    "passing_stats_df = passing_stats_df.loc[passing_stats_df[\"TEAM_ID\"] == 1610612738] #Boston\n",
    "passing_stats_df"
   ],
   "metadata": {
    "collapsed": false,
    "ExecuteTime": {
     "end_time": "2024-12-01T10:51:56.457670200Z",
     "start_time": "2024-12-01T10:51:56.409846900Z"
    }
   },
   "id": "61f4dec00b316045"
  },
  {
   "cell_type": "code",
   "execution_count": 48,
   "outputs": [],
   "source": [
    "G = nx.DiGraph()\n",
    "G.add_node('GOAL', attr='Goal')\n",
    "for index, row in passing_stats_df.iterrows():\n",
    "    player = row['PLAYER_NAME_LAST_FIRST']\n",
    "    player2 = row['PASS_TO']\n",
    "    team = row['TEAM_NAME']\n",
    "    if not G.has_node(player):\n",
    "        G.add_node(player, attr=team)\n",
    "    if not G.has_node(player2):\n",
    "        G.add_node(player2, attr=team)\n",
    "for index, row in passing_stats_df.iterrows():\n",
    "    edge = (row['PLAYER_NAME_LAST_FIRST'], row['PASS_TO'])\n",
    "    weight = row['AST']\n",
    "    if G.has_edge(*edge):\n",
    "        # If the edge exists, add to the current weight\n",
    "        G[edge[0]][edge[1]]['weight'] += weight\n",
    "    else:\n",
    "        G.add_edge(edge[0], edge[1],weight=weight) \n",
    "        \n",
    "for index, row in df_total_score.iterrows():\n",
    "    edge = (row['Player Name'], 'GOAL')\n",
    "    weight = row['Total Points']\n",
    "    if G.has_node(row['Player Name']):\n",
    "        G.add_edge(edge[0], edge[1], weight=weight)  # add the number of points from a player to the GOAL        \n",
    "# Export the graph as .gexf to load it in Gephi\n",
    "nx.write_gexf(G, \"plot5_Boston_assist_score.gexf\")"
   ],
   "metadata": {
    "collapsed": false,
    "ExecuteTime": {
     "end_time": "2024-12-01T10:51:56.793563900Z",
     "start_time": "2024-12-01T10:51:56.757496600Z"
    }
   },
   "id": "43bc856b93c1ae0f"
  },
  {
   "cell_type": "markdown",
   "source": [
    "Make the graph with the number of passed between each player and the number of made attempts based on the number of total attempts (value normalized based on the number of game played) (1610612747 Lakers)"
   ],
   "metadata": {
    "collapsed": false
   },
   "id": "2856cffadbc8812"
  },
  {
   "cell_type": "code",
   "execution_count": 58,
   "outputs": [],
   "source": [
    "passing_stats_df = pd.read_csv('data/NBA_pass_data_2324_totals_regularseason.csv')\n",
    "passing_stats_df = passing_stats_df.loc[passing_stats_df[\"TEAM_ID\"] == 1610612747] #Lakers"
   ],
   "metadata": {
    "collapsed": false,
    "ExecuteTime": {
     "end_time": "2024-12-01T12:27:11.740767700Z",
     "start_time": "2024-12-01T12:27:11.717461400Z"
    }
   },
   "id": "d5bb0332a4103fde"
  },
  {
   "cell_type": "code",
   "execution_count": 59,
   "outputs": [],
   "source": [
    "G = nx.DiGraph()\n",
    "G.add_node('GOAL', attr='Goal')\n",
    "for index, row in passing_stats_df.iterrows():\n",
    "    player = row['PLAYER_NAME_LAST_FIRST']\n",
    "    player2 = row['PASS_TO']\n",
    "    team = row['TEAM_NAME']\n",
    "    if not G.has_node(player):\n",
    "        G.add_node(player, attr=team)\n",
    "    if not G.has_node(player2):\n",
    "        G.add_node(player2, attr=team)\n",
    "for index, row in passing_stats_df.iterrows():\n",
    "    edge = (row['PLAYER_NAME_LAST_FIRST'], row['PASS_TO'])\n",
    "    weight = row['FREQUENCY']\n",
    "    if G.has_edge(*edge):\n",
    "        # If the edge exists, add to the current weight\n",
    "        G[edge[0]][edge[1]]['weight'] += weight\n",
    "    else:\n",
    "        G.add_edge(edge[0], edge[1], weight=weight)\n",
    "player_counts = passing_stats_df['PLAYER_NAME_LAST_FIRST'].value_counts()\n",
    "\n",
    "for index, row in passing_stats_df.iterrows():\n",
    "    if row['FGA'] == 0 and row['FG2A'] == 0 and row['FG3A'] == 0:\n",
    "        player_name = row['PLAYER_NAME_LAST_FIRST']\n",
    "        player_counts[player_name] -= 1\n",
    "\n",
    "for index, row in passing_stats_df.iterrows():\n",
    "    count = player_counts.get(row['PLAYER_NAME_LAST_FIRST'],0)\n",
    "    edge = (row['PLAYER_NAME_LAST_FIRST'], 'GOAL')\n",
    "    # Determine the number of non-zero attempt columns\n",
    "    attempts = [row['FGA'], row['FG2A'], row['FG3A']]\n",
    "    non_zero_attempts = sum(1 for attempt in attempts if attempt != 0)\n",
    "    \n",
    "    # Avoid division by zero in case all attempts are zero\n",
    "    if non_zero_attempts > 0:\n",
    "        weight = (row['FG_PCT'] + row['FG2_PCT'] + row['FG3_PCT']) / non_zero_attempts\n",
    "        weight /= count\n",
    "    else:\n",
    "        weight = 0  # Assign 0 weight if no attempts\n",
    "    \n",
    "    if G.has_edge(*edge):\n",
    "        # If the edge exists, add to the current weight\n",
    "        G[edge[0]][edge[1]]['weight'] += weight\n",
    "    else:\n",
    "        G.add_edge(edge[0], edge[1], weight=weight)   \n",
    "# Export the graph as .gexf to load it in Gephi\n",
    "nx.write_gexf(G, \"plot6_Lakers_passes_attempts.gexf\")"
   ],
   "metadata": {
    "collapsed": false,
    "ExecuteTime": {
     "end_time": "2024-12-01T12:27:35.591977200Z",
     "start_time": "2024-12-01T12:27:35.547294900Z"
    }
   },
   "id": "908fe62b00d73ba8"
  },
  {
   "cell_type": "code",
   "execution_count": 61,
   "outputs": [
    {
     "name": "stdout",
     "output_type": "stream",
     "text": [
      "In-degree and sum of incoming edge weights for each node:\n",
      "GOAL: In-degree = 18, Total incoming weight = 6.557841185448537\n",
      "Hood-Schifino, Jalen: In-degree = 15, Total incoming weight = 0.8700000000000001\n",
      "Hodge, D'Moi: In-degree = 9, Total incoming weight = 0.162\n",
      "Fudge, Alex: In-degree = 4, Total incoming weight = 0.07\n",
      "Lewis, Maxwell: In-degree = 11, Total incoming weight = 0.454\n",
      "Christie, Max: In-degree = 18, Total incoming weight = 1.5170000000000001\n",
      "Castleton, Colin: In-degree = 9, Total incoming weight = 0.151\n",
      "Reaves, Austin: In-degree = 15, Total incoming weight = 2.5220000000000002\n",
      "Mays, Skylar: In-degree = 14, Total incoming weight = 0.552\n",
      "Windler, Dylan: In-degree = 8, Total incoming weight = 0.163\n",
      "Hayes, Jaxson: In-degree = 16, Total incoming weight = 0.6370000000000002\n",
      "Vanderbilt, Jarred: In-degree = 13, Total incoming weight = 0.19400000000000006\n",
      "Giles III, Harry: In-degree = 5, Total incoming weight = 0.07500000000000001\n",
      "Wood, Christian: In-degree = 17, Total incoming weight = 0.6560000000000002\n",
      "Dinwiddie, Spencer: In-degree = 14, Total incoming weight = 0.48000000000000004\n",
      "Davis, Anthony: In-degree = 14, Total incoming weight = 1.74\n",
      "James, LeBron: In-degree = 14, Total incoming weight = 2.7149999999999994\n",
      "Russell, D'Angelo: In-degree = 15, Total incoming weight = 2.8960000000000004\n",
      "Reddish, Cam: In-degree = 14, Total incoming weight = 0.3340000000000001\n",
      "Vincent, Gabe: In-degree = 13, Total incoming weight = 0.137\n",
      "Hachimura, Rui: In-degree = 15, Total incoming weight = 0.841\n",
      "Prince, Taurean: In-degree = 14, Total incoming weight = 0.834\n",
      "'GOAL': In-degree = 18, Total incoming weight = 6.557841185448537\n"
     ]
    }
   ],
   "source": [
    "# Calculate and print in-degree and sum of incoming edge weights for each node\n",
    "print(\"In-degree and sum of incoming edge weights for each node:\")\n",
    "for node in G.nodes():\n",
    "    in_degree = G.in_degree(node)\n",
    "    # Get the sum of weights for all incoming edges\n",
    "    in_edges = G.in_edges(node, data=True)\n",
    "    total_incoming_weight = sum(edge_data['weight'] for _, _, edge_data in in_edges)\n",
    "    print(f\"{node}: In-degree = {in_degree}, Total incoming weight = {total_incoming_weight}\")\n",
    "\n",
    "# Example: Specific node, e.g., 'GOAL'\n",
    "goal_in_degree = G.in_degree('GOAL')\n",
    "goal_in_edges = G.in_edges('GOAL', data=True)\n",
    "goal_total_weight = sum(edge_data['weight'] for _, _, edge_data in goal_in_edges)\n",
    "print(f\"'GOAL': In-degree = {goal_in_degree}, Total incoming weight = {goal_total_weight}\")\n"
   ],
   "metadata": {
    "collapsed": false,
    "ExecuteTime": {
     "end_time": "2024-12-01T12:37:13.299993800Z",
     "start_time": "2024-12-01T12:37:13.283864700Z"
    }
   },
   "id": "cb440268cb819e3c"
  },
  {
   "cell_type": "code",
   "execution_count": 62,
   "outputs": [
    {
     "name": "stdout",
     "output_type": "stream",
     "text": [
      "Total incoming weight excluding 'GOAL': 18.000000000000004\n",
      "Normalized total incoming weights for each node (excluding 'GOAL'):\n",
      "Hood-Schifino, Jalen: Normalized incoming weight = 0.0483\n",
      "Hodge, D'Moi: Normalized incoming weight = 0.0090\n",
      "Fudge, Alex: Normalized incoming weight = 0.0039\n",
      "Lewis, Maxwell: Normalized incoming weight = 0.0252\n",
      "Christie, Max: Normalized incoming weight = 0.0843\n",
      "Castleton, Colin: Normalized incoming weight = 0.0084\n",
      "Reaves, Austin: Normalized incoming weight = 0.1401\n",
      "Mays, Skylar: Normalized incoming weight = 0.0307\n",
      "Windler, Dylan: Normalized incoming weight = 0.0091\n",
      "Hayes, Jaxson: Normalized incoming weight = 0.0354\n",
      "Vanderbilt, Jarred: Normalized incoming weight = 0.0108\n",
      "Giles III, Harry: Normalized incoming weight = 0.0042\n",
      "Wood, Christian: Normalized incoming weight = 0.0364\n",
      "Dinwiddie, Spencer: Normalized incoming weight = 0.0267\n",
      "Davis, Anthony: Normalized incoming weight = 0.0967\n",
      "James, LeBron: Normalized incoming weight = 0.1508\n",
      "Russell, D'Angelo: Normalized incoming weight = 0.1609\n",
      "Reddish, Cam: Normalized incoming weight = 0.0186\n",
      "Vincent, Gabe: Normalized incoming weight = 0.0076\n",
      "Hachimura, Rui: Normalized incoming weight = 0.0467\n",
      "Prince, Taurean: Normalized incoming weight = 0.0463\n"
     ]
    }
   ],
   "source": [
    "# Calculate the total weight of all incoming edges excluding 'GOAL'\n",
    "total_weight_excluding_goal = 0\n",
    "for node in G.nodes():\n",
    "    if node != 'GOAL':\n",
    "        in_edges = G.in_edges(node, data=True)\n",
    "        total_weight_excluding_goal += sum(edge_data['weight'] for _, _, edge_data in in_edges)\n",
    "\n",
    "print(f\"Total incoming weight excluding 'GOAL': {total_weight_excluding_goal}\")\n",
    "\n",
    "# Calculate normalized incoming weights for each node (excluding 'GOAL')\n",
    "print(\"Normalized total incoming weights for each node (excluding 'GOAL'):\")\n",
    "for node in G.nodes():\n",
    "    if node != 'GOAL':\n",
    "        in_edges = G.in_edges(node, data=True)\n",
    "        total_incoming_weight = sum(edge_data['weight'] for _, _, edge_data in in_edges)\n",
    "        normalized_weight = total_incoming_weight / total_weight_excluding_goal if total_weight_excluding_goal > 0 else 0\n",
    "        print(f\"{node}: Normalized incoming weight = {normalized_weight:.4f}\")\n"
   ],
   "metadata": {
    "collapsed": false,
    "ExecuteTime": {
     "end_time": "2024-12-01T12:40:05.637168300Z",
     "start_time": "2024-12-01T12:40:05.624478300Z"
    }
   },
   "id": "d404580e9715ec0c"
  },
  {
   "cell_type": "code",
   "execution_count": null,
   "outputs": [],
   "source": [],
   "metadata": {
    "collapsed": false
   },
   "id": "36a1b4f693f2c06c"
  }
 ],
 "metadata": {
  "kernelspec": {
   "display_name": "Python 3",
   "language": "python",
   "name": "python3"
  },
  "language_info": {
   "codemirror_mode": {
    "name": "ipython",
    "version": 2
   },
   "file_extension": ".py",
   "mimetype": "text/x-python",
   "name": "python",
   "nbconvert_exporter": "python",
   "pygments_lexer": "ipython2",
   "version": "2.7.6"
  }
 },
 "nbformat": 4,
 "nbformat_minor": 5
}
